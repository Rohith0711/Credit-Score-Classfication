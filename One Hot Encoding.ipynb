{
 "cells": [
  {
   "cell_type": "code",
   "execution_count": 1,
   "id": "6829d0aa",
   "metadata": {},
   "outputs": [
    {
     "name": "stderr",
     "output_type": "stream",
     "text": [
      "/Users/mrudula/opt/anaconda3/lib/python3.9/site-packages/pandas/core/computation/expressions.py:21: UserWarning: Pandas requires version '2.8.4' or newer of 'numexpr' (version '2.8.1' currently installed).\n",
      "  from pandas.core.computation.check import NUMEXPR_INSTALLED\n",
      "/Users/mrudula/opt/anaconda3/lib/python3.9/site-packages/pandas/core/arrays/masked.py:60: UserWarning: Pandas requires version '1.3.6' or newer of 'bottleneck' (version '1.3.2' currently installed).\n",
      "  from pandas.core import (\n",
      "/Users/mrudula/opt/anaconda3/lib/python3.9/site-packages/scipy/__init__.py:146: UserWarning: A NumPy version >=1.16.5 and <1.23.0 is required for this version of SciPy (detected version 1.26.4\n",
      "  warnings.warn(f\"A NumPy version >={np_minversion} and <{np_maxversion}\"\n"
     ]
    }
   ],
   "source": [
    "%matplotlib inline\n",
    "# import necessary libraries and specify that graphs should be plotted inline. \n",
    "\n",
    "# from sklearn.tree import DecisionTreeClassifier\n",
    "import matplotlib.pyplot as plt\n",
    "import numpy as np\n",
    "import pandas as pd\n",
    "import sklearn\n",
    "\n",
    "import warnings\n",
    "warnings.filterwarnings('ignore')"
   ]
  },
  {
   "cell_type": "code",
   "execution_count": 2,
   "id": "4883375b",
   "metadata": {},
   "outputs": [
    {
     "name": "stdout",
     "output_type": "stream",
     "text": [
      "  Customer_ID     Month  Age Occupation  Annual_Income  Monthly_Inhand_Salary  \\\n",
      "0  CUS_0x1000   January   17     Lawyer       30625.94            2706.161667   \n",
      "1  CUS_0x1000  February   17     Lawyer       30625.94            2706.161667   \n",
      "2  CUS_0x1000     March   17     Lawyer       30625.94            2706.161667   \n",
      "3  CUS_0x1000     April   17     Lawyer       30625.94            2706.161667   \n",
      "4  CUS_0x1000       May   17     Lawyer       30625.94            2706.161667   \n",
      "\n",
      "   Num_Bank_Accounts  Num_Credit_Card  Interest_Rate  Num_of_Loan  ...  \\\n",
      "0                6.0              5.0             27          2.0  ...   \n",
      "1                6.0              5.0             27          2.0  ...   \n",
      "2                6.0              5.0             27          2.0  ...   \n",
      "3                6.0              5.0             27          2.0  ...   \n",
      "4                6.0              5.0             27          2.0  ...   \n",
      "\n",
      "  Credit_Mix  Outstanding_Debt  Credit_Utilization_Ratio  Credit_History_Age  \\\n",
      "0        Bad           1562.91                 26.612093           10.166667   \n",
      "1        Bad           1562.91                 29.439759           10.250000   \n",
      "2        Bad           1562.91                 38.285928           10.333333   \n",
      "3        Bad           1562.91                 32.843081           10.416667   \n",
      "4        Bad           1562.91                 32.330508           10.500000   \n",
      "\n",
      "   Payment_of_Min_Amount Total_EMI_per_month  Amount_invested_monthly  \\\n",
      "0                    Yes            42.94109               244.750283   \n",
      "1                    Yes            42.94109               176.132567   \n",
      "2                    Yes            42.94109               109.056519   \n",
      "3                    Yes            42.94109                87.909909   \n",
      "4                    Yes            42.94109               191.834767   \n",
      "\n",
      "                  Payment_Behaviour  Monthly_Balance Credit_Score  \n",
      "0    Low_spent_Large_value_payments       252.924793     Standard  \n",
      "1   High_spent_Small_value_payments       311.542510         Poor  \n",
      "2  High_spent_Medium_value_payments       368.618557         Poor  \n",
      "3  High_spent_Medium_value_payments       419.765167         Poor  \n",
      "4    Low_spent_Large_value_payments       305.840309         Poor  \n",
      "\n",
      "[5 rows x 25 columns]\n"
     ]
    }
   ],
   "source": [
    "# data loading\n",
    "credit = pd.read_csv('cleaned_data.csv')\n",
    "\n",
    "print(credit.head())"
   ]
  },
  {
   "cell_type": "code",
   "execution_count": 3,
   "id": "dedaa800",
   "metadata": {},
   "outputs": [
    {
     "name": "stdout",
     "output_type": "stream",
     "text": [
      "Index(['Customer_ID', 'Month', 'Age', 'Occupation', 'Annual_Income',\n",
      "       'Monthly_Inhand_Salary', 'Num_Bank_Accounts', 'Num_Credit_Card',\n",
      "       'Interest_Rate', 'Num_of_Loan', 'Type_of_Loan', 'Delay_from_due_date',\n",
      "       'Num_of_Delayed_Payment', 'Changed_Credit_Limit',\n",
      "       'Num_Credit_Inquiries', 'Credit_Mix', 'Outstanding_Debt',\n",
      "       'Credit_Utilization_Ratio', 'Credit_History_Age',\n",
      "       'Payment_of_Min_Amount', 'Total_EMI_per_month',\n",
      "       'Amount_invested_monthly', 'Payment_Behaviour', 'Monthly_Balance',\n",
      "       'Credit_Score'],\n",
      "      dtype='object')\n"
     ]
    }
   ],
   "source": [
    "print(credit.columns)"
   ]
  },
  {
   "cell_type": "markdown",
   "id": "38e27b90",
   "metadata": {},
   "source": [
    "# Converting Ordinal Categorical Variables to Numeric"
   ]
  },
  {
   "cell_type": "code",
   "execution_count": 4,
   "id": "8f88aa58",
   "metadata": {},
   "outputs": [
    {
     "data": {
      "text/plain": [
       "Credit_Score\n",
       "Standard    53174\n",
       "Poor        28998\n",
       "Good        17828\n",
       "Name: count, dtype: int64"
      ]
     },
     "execution_count": 4,
     "metadata": {},
     "output_type": "execute_result"
    }
   ],
   "source": [
    "credit['Credit_Score'].value_counts()"
   ]
  },
  {
   "cell_type": "code",
   "execution_count": 5,
   "id": "d43ba8a7",
   "metadata": {},
   "outputs": [],
   "source": [
    "# Credit Score column conversion to numeric column\n",
    "size_mapping = {\"Poor\": 1, \"Standard\": 2, \"Good\": 3}\n",
    "\n",
    "credit['Credit_Score'] = credit['Credit_Score'].map(size_mapping)"
   ]
  },
  {
   "cell_type": "code",
   "execution_count": 6,
   "id": "85790b33",
   "metadata": {},
   "outputs": [
    {
     "data": {
      "text/plain": [
       "Credit_Mix\n",
       "Standard    45848\n",
       "Good        30384\n",
       "Bad         23768\n",
       "Name: count, dtype: int64"
      ]
     },
     "execution_count": 6,
     "metadata": {},
     "output_type": "execute_result"
    }
   ],
   "source": [
    "credit['Credit_Mix'].value_counts()"
   ]
  },
  {
   "cell_type": "code",
   "execution_count": 7,
   "id": "f5bfdc19",
   "metadata": {},
   "outputs": [],
   "source": [
    "# Credit Mix column conversion to numeric column\n",
    "size_mapping = {\"Bad\": 1, \"Standard\": 2, \"Good\": 3}\n",
    "\n",
    "credit['Credit_Mix'] = credit['Credit_Mix'].map(size_mapping)"
   ]
  },
  {
   "cell_type": "code",
   "execution_count": 8,
   "id": "bcb9be86",
   "metadata": {},
   "outputs": [
    {
     "data": {
      "text/plain": [
       "Payment_of_Min_Amount\n",
       "Yes    52326\n",
       "No     35667\n",
       "NM     12007\n",
       "Name: count, dtype: int64"
      ]
     },
     "execution_count": 8,
     "metadata": {},
     "output_type": "execute_result"
    }
   ],
   "source": [
    "credit['Payment_of_Min_Amount'].value_counts()"
   ]
  },
  {
   "cell_type": "code",
   "execution_count": 9,
   "id": "71249977",
   "metadata": {},
   "outputs": [],
   "source": [
    "# Payment_of_Min_Amount column conversion to numeric column\n",
    "size_mapping = {\"Yes\": 1, \"No\": 0, \"NM\": 0}\n",
    "\n",
    "credit['Payment_of_Min_Amount'] = credit['Payment_of_Min_Amount'].map(size_mapping)"
   ]
  },
  {
   "cell_type": "code",
   "execution_count": 10,
   "id": "b21a30ba",
   "metadata": {},
   "outputs": [
    {
     "data": {
      "text/plain": [
       "Payment_Behaviour\n",
       "Low_spent_Small_value_payments      27588\n",
       "High_spent_Medium_value_payments    19015\n",
       "Low_spent_Medium_value_payments     15012\n",
       "High_spent_Large_value_payments     14839\n",
       "High_spent_Small_value_payments     12244\n",
       "Low_spent_Large_value_payments      11302\n",
       "Name: count, dtype: int64"
      ]
     },
     "execution_count": 10,
     "metadata": {},
     "output_type": "execute_result"
    }
   ],
   "source": [
    "credit['Payment_Behaviour'].value_counts()"
   ]
  },
  {
   "cell_type": "code",
   "execution_count": 11,
   "id": "cc07d01e",
   "metadata": {},
   "outputs": [],
   "source": [
    "# Payment Behaviour column conversion to numeric column\n",
    "size_mapping = {\"Low_spent_Small_value_payments\": 1, \"Low_spent_Medium_value_payments\": 2, \n",
    "                \"Low_spent_Large_value_payments\": 3, \"High_spent_Small_value_payments\": 4, \n",
    "               \"High_spent_Medium_value_payments\": 5, \"High_spent_Large_value_payments\": 6}\n",
    "\n",
    "credit['Payment_Behaviour'] = credit['Payment_Behaviour'].map(size_mapping)"
   ]
  },
  {
   "cell_type": "code",
   "execution_count": 12,
   "id": "194ed866",
   "metadata": {},
   "outputs": [],
   "source": [
    "columns_to_drop = ['Month', 'Occupation']\n",
    "credit = credit.drop(columns=columns_to_drop)"
   ]
  },
  {
   "cell_type": "code",
   "execution_count": 13,
   "id": "2fff5c1a",
   "metadata": {},
   "outputs": [
    {
     "name": "stdout",
     "output_type": "stream",
     "text": [
      "<class 'pandas.core.frame.DataFrame'>\n",
      "RangeIndex: 100000 entries, 0 to 99999\n",
      "Data columns (total 23 columns):\n",
      " #   Column                    Non-Null Count   Dtype  \n",
      "---  ------                    --------------   -----  \n",
      " 0   Customer_ID               100000 non-null  object \n",
      " 1   Age                       100000 non-null  int64  \n",
      " 2   Annual_Income             100000 non-null  float64\n",
      " 3   Monthly_Inhand_Salary     100000 non-null  float64\n",
      " 4   Num_Bank_Accounts         100000 non-null  float64\n",
      " 5   Num_Credit_Card           100000 non-null  float64\n",
      " 6   Interest_Rate             100000 non-null  int64  \n",
      " 7   Num_of_Loan               100000 non-null  float64\n",
      " 8   Type_of_Loan              100000 non-null  object \n",
      " 9   Delay_from_due_date       100000 non-null  float64\n",
      " 10  Num_of_Delayed_Payment    100000 non-null  float64\n",
      " 11  Changed_Credit_Limit      100000 non-null  float64\n",
      " 12  Num_Credit_Inquiries      100000 non-null  float64\n",
      " 13  Credit_Mix                100000 non-null  int64  \n",
      " 14  Outstanding_Debt          100000 non-null  float64\n",
      " 15  Credit_Utilization_Ratio  100000 non-null  float64\n",
      " 16  Credit_History_Age        100000 non-null  float64\n",
      " 17  Payment_of_Min_Amount     100000 non-null  int64  \n",
      " 18  Total_EMI_per_month       100000 non-null  float64\n",
      " 19  Amount_invested_monthly   100000 non-null  float64\n",
      " 20  Payment_Behaviour         100000 non-null  int64  \n",
      " 21  Monthly_Balance           100000 non-null  float64\n",
      " 22  Credit_Score              100000 non-null  int64  \n",
      "dtypes: float64(15), int64(6), object(2)\n",
      "memory usage: 17.5+ MB\n"
     ]
    }
   ],
   "source": [
    "credit.info()"
   ]
  },
  {
   "cell_type": "code",
   "execution_count": 14,
   "id": "a22bd018",
   "metadata": {},
   "outputs": [],
   "source": [
    "import pandas as pd\n",
    "from sklearn.preprocessing import OneHotEncoder\n",
    "\n",
    "# One-hot encode the Type_of_Loan column\n",
    "encoder = OneHotEncoder()\n",
    "encoded_data = encoder.fit_transform(credit[['Type_of_Loan']]).toarray()\n",
    "\n",
    "# Create a new dataframe from the encoded data\n",
    "encoded_df = pd.DataFrame(encoded_data, columns=encoder.get_feature_names_out(['Type_of_Loan']))\n",
    "\n",
    "# Concatenate the encoded dataframe with the original dataframe\n",
    "credit = pd.concat([credit.drop('Type_of_Loan', axis=1), encoded_df], axis=1)"
   ]
  },
  {
   "cell_type": "code",
   "execution_count": 15,
   "id": "05d95210",
   "metadata": {},
   "outputs": [
    {
     "name": "stdout",
     "output_type": "stream",
     "text": [
      "(100000, 6259)\n"
     ]
    }
   ],
   "source": [
    "from sklearn.decomposition import PCA\n",
    "from sklearn.preprocessing import StandardScaler\n",
    "\n",
    "data = credit.iloc[:, 23:]\n",
    "print(data.shape)"
   ]
  },
  {
   "cell_type": "code",
   "execution_count": 16,
   "id": "48bbbcf2",
   "metadata": {},
   "outputs": [
    {
     "name": "stdout",
     "output_type": "stream",
     "text": [
      "<class 'numpy.ndarray'>\n"
     ]
    }
   ],
   "source": [
    "pca = PCA(n_components=2)\n",
    "df_pca = pca.fit_transform(data)\n",
    "print(type(df_pca))"
   ]
  },
  {
   "cell_type": "code",
   "execution_count": 17,
   "id": "fadb11c2",
   "metadata": {},
   "outputs": [],
   "source": [
    "df_pca_new = pd.DataFrame(df_pca)"
   ]
  },
  {
   "cell_type": "code",
   "execution_count": 18,
   "id": "eb4dc1be",
   "metadata": {},
   "outputs": [],
   "source": [
    "credit_new = credit[['Age', 'Annual_Income', 'Monthly_Inhand_Salary',\n",
    "       'Num_Bank_Accounts', 'Num_Credit_Card', 'Interest_Rate', 'Num_of_Loan', \n",
    "       'Delay_from_due_date', 'Num_of_Delayed_Payment',\n",
    "       'Changed_Credit_Limit', 'Num_Credit_Inquiries', 'Credit_Mix',\n",
    "       'Outstanding_Debt', 'Credit_Utilization_Ratio', 'Credit_History_Age',\n",
    "       'Payment_of_Min_Amount', 'Total_EMI_per_month',\n",
    "       'Amount_invested_monthly', 'Payment_Behaviour', 'Monthly_Balance',\n",
    "       'Credit_Score']]"
   ]
  },
  {
   "cell_type": "code",
   "execution_count": 19,
   "id": "c77a5919",
   "metadata": {},
   "outputs": [],
   "source": [
    "credit_new = pd.concat([credit_new, df_pca_new], axis=1)"
   ]
  },
  {
   "cell_type": "code",
   "execution_count": 20,
   "id": "4f9fd9a7",
   "metadata": {},
   "outputs": [],
   "source": [
    "credit_new.rename(\n",
    "    columns={0:\"PCA0\", 1:\"PCA1\"}, inplace=True)"
   ]
  },
  {
   "cell_type": "code",
   "execution_count": 21,
   "id": "de33ed2c",
   "metadata": {},
   "outputs": [
    {
     "name": "stdout",
     "output_type": "stream",
     "text": [
      "<class 'pandas.core.frame.DataFrame'>\n",
      "RangeIndex: 100000 entries, 0 to 99999\n",
      "Data columns (total 23 columns):\n",
      " #   Column                    Non-Null Count   Dtype  \n",
      "---  ------                    --------------   -----  \n",
      " 0   Age                       100000 non-null  int64  \n",
      " 1   Annual_Income             100000 non-null  float64\n",
      " 2   Monthly_Inhand_Salary     100000 non-null  float64\n",
      " 3   Num_Bank_Accounts         100000 non-null  float64\n",
      " 4   Num_Credit_Card           100000 non-null  float64\n",
      " 5   Interest_Rate             100000 non-null  int64  \n",
      " 6   Num_of_Loan               100000 non-null  float64\n",
      " 7   Delay_from_due_date       100000 non-null  float64\n",
      " 8   Num_of_Delayed_Payment    100000 non-null  float64\n",
      " 9   Changed_Credit_Limit      100000 non-null  float64\n",
      " 10  Num_Credit_Inquiries      100000 non-null  float64\n",
      " 11  Credit_Mix                100000 non-null  int64  \n",
      " 12  Outstanding_Debt          100000 non-null  float64\n",
      " 13  Credit_Utilization_Ratio  100000 non-null  float64\n",
      " 14  Credit_History_Age        100000 non-null  float64\n",
      " 15  Payment_of_Min_Amount     100000 non-null  int64  \n",
      " 16  Total_EMI_per_month       100000 non-null  float64\n",
      " 17  Amount_invested_monthly   100000 non-null  float64\n",
      " 18  Payment_Behaviour         100000 non-null  int64  \n",
      " 19  Monthly_Balance           100000 non-null  float64\n",
      " 20  Credit_Score              100000 non-null  int64  \n",
      " 21  PCA0                      100000 non-null  float64\n",
      " 22  PCA1                      100000 non-null  float64\n",
      "dtypes: float64(17), int64(6)\n",
      "memory usage: 17.5 MB\n"
     ]
    }
   ],
   "source": [
    "credit_new.info()"
   ]
  },
  {
   "cell_type": "code",
   "execution_count": null,
   "id": "91201277",
   "metadata": {},
   "outputs": [],
   "source": []
  }
 ],
 "metadata": {
  "kernelspec": {
   "display_name": "Python 3 (ipykernel)",
   "language": "python",
   "name": "python3"
  },
  "language_info": {
   "codemirror_mode": {
    "name": "ipython",
    "version": 3
   },
   "file_extension": ".py",
   "mimetype": "text/x-python",
   "name": "python",
   "nbconvert_exporter": "python",
   "pygments_lexer": "ipython3",
   "version": "3.9.7"
  }
 },
 "nbformat": 4,
 "nbformat_minor": 5
}
