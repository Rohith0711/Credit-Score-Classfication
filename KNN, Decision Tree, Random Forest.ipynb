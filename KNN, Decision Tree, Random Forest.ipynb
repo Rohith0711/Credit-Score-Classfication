{
 "cells": [
  {
   "cell_type": "markdown",
   "id": "bdc767d2",
   "metadata": {},
   "source": [
    "# Importing Necessary Libraries"
   ]
  },
  {
   "cell_type": "code",
   "execution_count": 1,
   "id": "793e0b24",
   "metadata": {},
   "outputs": [
    {
     "name": "stderr",
     "output_type": "stream",
     "text": [
      "/Users/mrudula/opt/anaconda3/lib/python3.9/site-packages/pandas/core/computation/expressions.py:21: UserWarning: Pandas requires version '2.8.4' or newer of 'numexpr' (version '2.8.1' currently installed).\n",
      "  from pandas.core.computation.check import NUMEXPR_INSTALLED\n",
      "/Users/mrudula/opt/anaconda3/lib/python3.9/site-packages/pandas/core/arrays/masked.py:60: UserWarning: Pandas requires version '1.3.6' or newer of 'bottleneck' (version '1.3.2' currently installed).\n",
      "  from pandas.core import (\n",
      "/Users/mrudula/opt/anaconda3/lib/python3.9/site-packages/scipy/__init__.py:146: UserWarning: A NumPy version >=1.16.5 and <1.23.0 is required for this version of SciPy (detected version 1.26.4\n",
      "  warnings.warn(f\"A NumPy version >={np_minversion} and <{np_maxversion}\"\n"
     ]
    }
   ],
   "source": [
    "# Import necessary libraries\n",
    "import pandas as pd\n",
    "import numpy as np\n",
    "import matplotlib.pyplot as plt\n",
    "import seaborn as sns\n",
    "\n",
    "from sklearn.metrics import confusion_matrix\n",
    "from sklearn.preprocessing import LabelEncoder, StandardScaler\n",
    "from sklearn.model_selection import train_test_split, GridSearchCV\n",
    "from sklearn.neighbors import KNeighborsClassifier\n",
    "from sklearn.metrics import classification_report, accuracy_score\n",
    "from sklearn.tree import DecisionTreeClassifier\n",
    "from sklearn.ensemble import RandomForestClassifier"
   ]
  },
  {
   "cell_type": "code",
   "execution_count": 2,
   "id": "cfa0cbdf",
   "metadata": {},
   "outputs": [
    {
     "name": "stdout",
     "output_type": "stream",
     "text": [
      "  Customer_ID     Month  Age Occupation  Annual_Income  Monthly_Inhand_Salary  \\\n",
      "0  CUS_0x1000   January   17     Lawyer       30625.94            2706.161667   \n",
      "1  CUS_0x1000  February   17     Lawyer       30625.94            2706.161667   \n",
      "2  CUS_0x1000     March   17     Lawyer       30625.94            2706.161667   \n",
      "3  CUS_0x1000     April   17     Lawyer       30625.94            2706.161667   \n",
      "4  CUS_0x1000       May   17     Lawyer       30625.94            2706.161667   \n",
      "\n",
      "   Num_Bank_Accounts  Num_Credit_Card  Interest_Rate  Num_of_Loan  ...  \\\n",
      "0                6.0              5.0             27          2.0  ...   \n",
      "1                6.0              5.0             27          2.0  ...   \n",
      "2                6.0              5.0             27          2.0  ...   \n",
      "3                6.0              5.0             27          2.0  ...   \n",
      "4                6.0              5.0             27          2.0  ...   \n",
      "\n",
      "  Credit_Mix  Outstanding_Debt  Credit_Utilization_Ratio  Credit_History_Age  \\\n",
      "0        Bad           1562.91                 26.612093           10.166667   \n",
      "1        Bad           1562.91                 29.439759           10.250000   \n",
      "2        Bad           1562.91                 38.285928           10.333333   \n",
      "3        Bad           1562.91                 32.843081           10.416667   \n",
      "4        Bad           1562.91                 32.330508           10.500000   \n",
      "\n",
      "   Payment_of_Min_Amount Total_EMI_per_month  Amount_invested_monthly  \\\n",
      "0                    Yes            42.94109               244.750283   \n",
      "1                    Yes            42.94109               176.132567   \n",
      "2                    Yes            42.94109               109.056519   \n",
      "3                    Yes            42.94109                87.909909   \n",
      "4                    Yes            42.94109               191.834767   \n",
      "\n",
      "                  Payment_Behaviour  Monthly_Balance Credit_Score  \n",
      "0    Low_spent_Large_value_payments       252.924793     Standard  \n",
      "1   High_spent_Small_value_payments       311.542510         Poor  \n",
      "2  High_spent_Medium_value_payments       368.618557         Poor  \n",
      "3  High_spent_Medium_value_payments       419.765167         Poor  \n",
      "4    Low_spent_Large_value_payments       305.840309         Poor  \n",
      "\n",
      "[5 rows x 25 columns]\n"
     ]
    }
   ],
   "source": [
    "# Load the dataset\n",
    "data = pd.read_csv('cleaned_data.csv')\n",
    "\n",
    "# Display the first few rows of the dataset\n",
    "print(data.head(5))"
   ]
  },
  {
   "cell_type": "code",
   "execution_count": 3,
   "id": "786dbab7",
   "metadata": {},
   "outputs": [],
   "source": [
    "# Encode categorical features using LabelEncoder\n",
    "label_encoder = LabelEncoder()\n",
    "categorical_features = ['Month', 'Occupation', 'Type_of_Loan', 'Credit_Mix', \n",
    "                        'Payment_of_Min_Amount', 'Payment_Behaviour', 'Credit_Score']\n",
    "\n",
    "for feature in categorical_features:\n",
    "    data[feature] = label_encoder.fit_transform(data[feature].astype(str))\n",
    "\n",
    "# List of numerical features for scaling\n",
    "numerical_features = [\n",
    "    'Age', 'Annual_Income', 'Monthly_Inhand_Salary', 'Num_Bank_Accounts',\n",
    "    'Num_Credit_Card', 'Interest_Rate', 'Num_of_Loan', 'Delay_from_due_date',\n",
    "    'Num_of_Delayed_Payment', 'Changed_Credit_Limit', 'Num_Credit_Inquiries',\n",
    "    'Outstanding_Debt', 'Credit_Utilization_Ratio', 'Credit_History_Age',\n",
    "    'Total_EMI_per_month', 'Amount_invested_monthly', 'Monthly_Balance'\n",
    "]\n",
    "\n",
    "# Normalize the numerical features using StandardScaler\n",
    "scaler = StandardScaler()\n",
    "data[numerical_features] = scaler.fit_transform(data[numerical_features])"
   ]
  },
  {
   "cell_type": "markdown",
   "id": "1a79c6dc",
   "metadata": {},
   "source": [
    "# KNN Model"
   ]
  },
  {
   "cell_type": "code",
   "execution_count": 4,
   "id": "c600e80b",
   "metadata": {},
   "outputs": [
    {
     "name": "stdout",
     "output_type": "stream",
     "text": [
      "Data conversion successful: <class 'numpy.ndarray'> True\n",
      "Training data shape: (80000, 23), Testing data shape: (20000, 23)\n"
     ]
    }
   ],
   "source": [
    "# Convert features (X) and target (y) explicitly to NumPy arrays\n",
    "X = data.drop(columns=['Customer_ID', 'Credit_Score']).to_numpy().copy()\n",
    "y = data['Credit_Score'].to_numpy().copy()\n",
    "\n",
    "print(\"Data conversion successful:\", type(X), X.flags.c_contiguous)\n",
    "\n",
    "# Split the dataset into training and testing sets\n",
    "X_train, X_test, y_train, y_test = train_test_split(X, y, test_size=0.2, random_state=42)\n",
    "\n",
    "print(f\"Training data shape: {X_train.shape}, Testing data shape: {X_test.shape}\")"
   ]
  },
  {
   "cell_type": "code",
   "execution_count": 5,
   "id": "5e96dd64",
   "metadata": {},
   "outputs": [
    {
     "name": "stdout",
     "output_type": "stream",
     "text": [
      "Accuracy: 0.7173\n",
      "\n",
      "Classification Report:\n",
      "               precision    recall  f1-score   support\n",
      "\n",
      "           0       0.59      0.60      0.60      3531\n",
      "           1       0.73      0.72      0.72      5838\n",
      "           2       0.76      0.75      0.75     10631\n",
      "\n",
      "    accuracy                           0.72     20000\n",
      "   macro avg       0.69      0.69      0.69     20000\n",
      "weighted avg       0.72      0.72      0.72     20000\n",
      "\n"
     ]
    }
   ],
   "source": [
    "# Initialize and train the KNN model (k=5, using Euclidean distance)\n",
    "knn_model = KNeighborsClassifier(n_neighbors=5, metric='euclidean')\n",
    "knn_model.fit(X_train, y_train)\n",
    "\n",
    "# Make predictions on the test set\n",
    "y_pred = knn_model.predict(X_test)\n",
    "\n",
    "# Evaluate the model performance\n",
    "accuracy = accuracy_score(y_test, y_pred)\n",
    "report = classification_report(y_test, y_pred)\n",
    "\n",
    "# Display the accuracy and classification report\n",
    "print(\"Accuracy:\", accuracy)\n",
    "print(\"\\nClassification Report:\\n\", report)"
   ]
  },
  {
   "cell_type": "code",
   "execution_count": 6,
   "id": "3abe45b7",
   "metadata": {},
   "outputs": [
    {
     "data": {
      "image/png": "[encoded data removed]",
      "text/plain": [
       "<Figure size 576x432 with 1 Axes>"
      ]
     },
     "metadata": {
      "needs_background": "light"
     },
     "output_type": "display_data"
    }
   ],
   "source": [
    "# Confusion Matrix\n",
    "# Generate predictions using the trained KNN model\n",
    "y_pred = knn_model.predict(X_test)\n",
    "\n",
    "# Compute the confusion matrix\n",
    "conf_matrix = confusion_matrix(y_test, y_pred)\n",
    "\n",
    "# Plot the confusion matrix\n",
    "plt.figure(figsize=(8, 6))\n",
    "sns.heatmap(conf_matrix, annot=True, cmap='Blues', fmt='d', cbar=False,\n",
    "            xticklabels=['Low', 'Medium', 'High'], yticklabels=['Low', 'Medium', 'High'])\n",
    "plt.xlabel('Predicted Label')\n",
    "plt.ylabel('True Label')\n",
    "plt.title('Confusion Matrix for KNN Model')\n",
    "plt.show()"
   ]
  },
  {
   "cell_type": "markdown",
   "id": "35229601",
   "metadata": {},
   "source": [
    "# Decision Tree Model"
   ]
  },
  {
   "cell_type": "code",
   "execution_count": 7,
   "id": "f31cff06",
   "metadata": {},
   "outputs": [],
   "source": [
    "X_train_dt, X_test_dt, Y_train_dt, Y_test_dt = train_test_split(X, y, test_size = 0.3, random_state = 42)"
   ]
  },
  {
   "cell_type": "code",
   "execution_count": 8,
   "id": "8d62e34f",
   "metadata": {},
   "outputs": [],
   "source": [
    "model = DecisionTreeClassifier(random_state = 42)\n",
    "\n",
    "model.fit(X_train_dt, Y_train_dt)\n",
    "y_pred_dt = model.predict(X_test_dt)"
   ]
  },
  {
   "cell_type": "code",
   "execution_count": 9,
   "id": "79545379",
   "metadata": {},
   "outputs": [
    {
     "name": "stdout",
     "output_type": "stream",
     "text": [
      "0.711\n"
     ]
    }
   ],
   "source": [
    "from sklearn import metrics\n",
    "\n",
    "print(metrics.accuracy_score(Y_test_dt, y_pred_dt))"
   ]
  },
  {
   "cell_type": "code",
   "execution_count": 10,
   "id": "72d3331d",
   "metadata": {},
   "outputs": [
    {
     "name": "stdout",
     "output_type": "stream",
     "text": [
      "Decision Tree Classifier Report:\n",
      "              precision    recall  f1-score   support\n",
      "\n",
      "           0       0.65      0.64      0.65      5300\n",
      "           1       0.70      0.69      0.69      8812\n",
      "           2       0.74      0.75      0.74     15888\n",
      "\n",
      "    accuracy                           0.71     30000\n",
      "   macro avg       0.70      0.69      0.69     30000\n",
      "weighted avg       0.71      0.71      0.71     30000\n",
      "\n"
     ]
    }
   ],
   "source": [
    "print(\"Decision Tree Classifier Report:\")\n",
    "print(classification_report(Y_test_dt, y_pred_dt))"
   ]
  },
  {
   "cell_type": "markdown",
   "id": "716ce9ef",
   "metadata": {},
   "source": [
    "# Random Forest Model"
   ]
  },
  {
   "cell_type": "code",
   "execution_count": 11,
   "id": "0b847e13",
   "metadata": {},
   "outputs": [],
   "source": [
    "rf_classifier = RandomForestClassifier(random_state=42)\n",
    "\n",
    "rf_classifier.fit(X_train_dt, Y_train_dt)\n",
    "rf_y_pred = rf_classifier.predict(X_test_dt)"
   ]
  },
  {
   "cell_type": "code",
   "execution_count": 12,
   "id": "ed6b352c",
   "metadata": {},
   "outputs": [
    {
     "name": "stdout",
     "output_type": "stream",
     "text": [
      "\n",
      "Random Forest Classifier Report:\n",
      "              precision    recall  f1-score   support\n",
      "\n",
      "           0       0.78      0.75      0.77      5300\n",
      "           1       0.80      0.83      0.81      8812\n",
      "           2       0.83      0.82      0.82     15888\n",
      "\n",
      "    accuracy                           0.81     30000\n",
      "   macro avg       0.80      0.80      0.80     30000\n",
      "weighted avg       0.81      0.81      0.81     30000\n",
      "\n"
     ]
    }
   ],
   "source": [
    "print(\"\\nRandom Forest Classifier Report:\")\n",
    "print(classification_report(Y_test_dt, rf_y_pred))"
   ]
  },
  {
   "cell_type": "code",
   "execution_count": null,
   "id": "783b7b14",
   "metadata": {},
   "outputs": [],
   "source": []
  }
 ],
 "metadata": {
  "kernelspec": {
   "display_name": "Python 3 (ipykernel)",
   "language": "python",
   "name": "python3"
  },
  "language_info": {
   "codemirror_mode": {
    "name": "ipython",
    "version": 3
   },
   "file_extension": ".py",
   "mimetype": "text/x-python",
   "name": "python",
   "nbconvert_exporter": "python",
   "pygments_lexer": "ipython3",
   "version": "3.9.7"
  }
 },
 "nbformat": 4,
 "nbformat_minor": 5
}
